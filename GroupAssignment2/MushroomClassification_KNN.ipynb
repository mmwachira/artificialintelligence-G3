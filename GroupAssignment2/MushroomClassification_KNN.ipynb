{
 "cells": [
  {
   "cell_type": "code",
   "execution_count": null,
   "id": "78108b19",
   "metadata": {
    "scrolled": true
   },
   "outputs": [],
   "source": [
    "pip install pandas"
   ]
  },
  {
   "cell_type": "code",
   "execution_count": null,
   "id": "b5ed60ee",
   "metadata": {},
   "outputs": [],
   "source": [
    "import numpy as np\n",
    "import pandas as pd"
   ]
  },
  {
   "cell_type": "code",
   "execution_count": null,
   "id": "0922177e",
   "metadata": {},
   "outputs": [],
   "source": [
    "#Load the data\n",
    "data = pd.read_csv(r\"C:\\Users\\mwach\\Downloads\\mushrooms.csv\")\n",
    "print('''Attribute Information: (classes: edible=e, poisonous=p)\n",
    "cap-shape: bell=b,conical=c,convex=x,flat=f, knobbed=k,sunken=s\n",
    "cap-surface: fibrous=f,grooves=g,scaly=y,smooth=s\n",
    "cap-color: brown=n,buff=b,cinnamon=c,gray=g,green=r,pink=p,purple=u,red=e,white=w,yellow=y\n",
    "bruises: bruises=t,no=f\n",
    "odor: almond=a,anise=l,creosote=c,fishy=y,foul=f,musty=m,none=n,pungent=p,spicy=s\n",
    "gill-attachment: attached=a,descending=d,free=f,notched=n\n",
    "gill-spacing: close=c,crowded=w,distant=d\n",
    "gill-size: broad=b,narrow=n\n",
    "gill-color: black=k,brown=n,buff=b,chocolate=h,gray=g, green=r,orange=o,pink=p,purple=u,red=e,white=w,yellow=y\n",
    "stalk-shape: enlarging=e,tapering=t\n",
    "stalk-root: bulbous=b,club=c,cup=u,equal=e,rhizomorphs=z,rooted=r,missing=?\n",
    "stalk-surface-above-ring: fibrous=f,scaly=y,silky=k,smooth=s\n",
    "stalk-surface-below-ring: fibrous=f,scaly=y,silky=k,smooth=s\n",
    "stalk-color-above-ring: brown=n,buff=b,cinnamon=c,gray=g,orange=o,pink=p,red=e,white=w,yellow=y\n",
    "stalk-color-below-ring: brown=n,buff=b,cinnamon=c,gray=g,orange=o,pink=p,red=e,white=w,yellow=y\n",
    "veil-type: partial=p,universal=u\n",
    "veil-color: brown=n,orange=o,white=w,yellow=y\n",
    "ring-number: none=n,one=o,two=t\n",
    "ring-type: cobwebby=c,evanescent=e,flaring=f,large=l,none=n,pendant=p,sheathing=s,zone=z\n",
    "spore-print-color: black=k,brown=n,buff=b,chocolate=h,green=r,orange=o,purple=u,white=w,yellow=y\n",
    "population: abundant=a,clustered=c,numerous=n,scattered=s,several=v,solitary=y\n",
    "habitat: grasses=g,leaves=l,meadows=m,paths=p,urban=u,waste=w,woods=d'''\n",
    ")\n",
    "data\n"
   ]
  },
  {
   "cell_type": "code",
   "execution_count": null,
   "id": "f9aa268d",
   "metadata": {},
   "outputs": [],
   "source": [
    "#Divide the data into input and output\n",
    "x=data.iloc[:,data.columns!='class']\n",
    "y=data.iloc[:,0]\n",
    "y"
   ]
  },
  {
   "cell_type": "code",
   "execution_count": null,
   "id": "1fba5c4d",
   "metadata": {},
   "outputs": [],
   "source": [
    "#Converting alphabets into numbers\n",
    "# 1 denotes the actual cap shape value\n",
    "from sklearn import preprocessing\n",
    "\n",
    "l=preprocessing.LabelEncoder()\n",
    "y_enc=l.fit_transform(y)\n",
    "y_enc"
   ]
  },
  {
   "cell_type": "code",
   "execution_count": null,
   "id": "e016d89b",
   "metadata": {},
   "outputs": [],
   "source": [
    "x_enc=pd.get_dummies(x)\n",
    "x_enc.head(5)"
   ]
  },
  {
   "cell_type": "code",
   "execution_count": null,
   "id": "5577ed1a",
   "metadata": {},
   "outputs": [],
   "source": [
    "#splitting the dataset into training set and test set\n",
    "from sklearn.model_selection import train_test_split\n",
    "x_train,x_test,y_train,y_test=train_test_split(x_enc,y_enc,test_size=0.3,random_state=0)\n"
   ]
  },
  {
   "cell_type": "code",
   "execution_count": null,
   "id": "5ad45748",
   "metadata": {},
   "outputs": [],
   "source": [
    "#analyzing the dimensions of input and output training variables and input and output test variables\n",
    "print(x_train.shape)\n",
    "print(y_train.shape)\n",
    "print(x_test.shape)\n",
    "print(y_test.shape)\n"
   ]
  },
  {
   "cell_type": "code",
   "execution_count": null,
   "id": "5fb910a7",
   "metadata": {},
   "outputs": [],
   "source": [
    "#fitting the model\n",
    "from sklearn.neighbors import KNeighborsClassifier\n",
    "model = KNeighborsClassifier(n_neighbors=1)\n",
    "model.fit(x_train,y_train)\n",
    "y_pred=model.predict(x_test)\n",
    "y_pred"
   ]
  },
  {
   "cell_type": "code",
   "execution_count": null,
   "id": "03341bbd",
   "metadata": {},
   "outputs": [],
   "source": [
    "#Calculating the accuracy score\n",
    "from sklearn.metrics import accuracy_score,confusion_matrix,classification_report\n",
    "accuracy_score(y_pred,y_test)*100\n"
   ]
  },
  {
   "cell_type": "code",
   "execution_count": null,
   "id": "97187188",
   "metadata": {},
   "outputs": [],
   "source": [
    "#Getting the confusion matrix\n",
    "confusion_matrix(y_pred,y_test)\n"
   ]
  },
  {
   "cell_type": "code",
   "execution_count": null,
   "id": "17c3184f",
   "metadata": {},
   "outputs": [],
   "source": [
    "#Getting the classification report\n",
    "print(classification_report(y_pred,y_test))"
   ]
  },
  {
   "cell_type": "code",
   "execution_count": null,
   "id": "66268ec6",
   "metadata": {},
   "outputs": [],
   "source": []
  },
  {
   "cell_type": "code",
   "execution_count": null,
   "id": "bf480747",
   "metadata": {},
   "outputs": [],
   "source": []
  }
 ],
 "metadata": {
  "kernelspec": {
   "display_name": "Python 3 (ipykernel)",
   "language": "python",
   "name": "python3"
  },
  "language_info": {
   "codemirror_mode": {
    "name": "ipython",
    "version": 3
   },
   "file_extension": ".py",
   "mimetype": "text/x-python",
   "name": "python",
   "nbconvert_exporter": "python",
   "pygments_lexer": "ipython3",
   "version": "3.9.11"
  }
 },
 "nbformat": 4,
 "nbformat_minor": 5
}
